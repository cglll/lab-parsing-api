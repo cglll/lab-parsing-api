{
 "cells": [
  {
   "cell_type": "code",
   "execution_count": 1,
   "metadata": {
    "id": "xiPmnzAbH6vl"
   },
   "outputs": [],
   "source": [
    "import re\n",
    "import json\n",
    "import requests\n",
    "import urllib.request"
   ]
  },
  {
   "cell_type": "code",
   "execution_count": 2,
   "metadata": {
    "id": "O1faNnLfH5eH"
   },
   "outputs": [],
   "source": [
    "url = 'https://www.zalando.fr/api/catalog/articles?categories=promo-femme&limit=84&offset=84&sort=popularity'"
   ]
  },
  {
   "cell_type": "code",
   "execution_count": 3,
   "metadata": {
    "id": "p9TGPqKnMMSW"
   },
   "outputs": [],
   "source": [
    "request = urllib.request.urlopen(url)\n",
    "data = json.load(request)"
   ]
  },
  {
   "cell_type": "code",
   "execution_count": 30,
   "metadata": {
    "colab": {
     "base_uri": "https://localhost:8080/"
    },
    "id": "GXDZZub9Mgvs",
    "outputId": "6c6dd2d2-4793-4405-ae22-8f636aaa78b1"
   },
   "outputs": [
    {
     "data": {
      "text/plain": [
       "dict_keys(['total_count', 'pagination', 'sort', 'articles', 'query_path', 'previous_page_path', 'next_page_path', 'query_params', 'page_gender', 'premium', 'appliedSort', 'filters', 'total_article_count', 'single_assortment_entrypoints', 'multi_assortment_entrypoints', 'filter_groups', 'plusStatus', 'categoryTree', 'sortingKeys', 'breadcrumbs', 'querySemantics', 'articlesToShow', 'octopusTests', 'locale', 'isLoggedIn', 'notification', 'resetFilters', 'selectedFilters', 'ssrArticleCount', 'feedbackId', 'variants', 'contentPositions', 'followBrandsBannerEnabled', 'prideEnabled', 'lazyArticleImages', 'hideSearchTerm', 'iconPaths', 'teaser', 'inCatalogTeaser', 'entryPointTeasers', 'upperInCatTeaser', 'inGridTeaser', 'wishlist', 'pills', 'sizeOnboardingDialog'])"
      ]
     },
     "execution_count": 30,
     "metadata": {
      "tags": []
     },
     "output_type": "execute_result"
    }
   ],
   "source": [
    "data.keys()"
   ]
  },
  {
   "cell_type": "code",
   "execution_count": 31,
   "metadata": {
    "colab": {
     "base_uri": "https://localhost:8080/"
    },
    "id": "wkgAkqvEMnly",
    "outputId": "5645786d-f549-45e3-d3ab-5f86b9faf19d"
   },
   "outputs": [
    {
     "data": {
      "text/plain": [
       "193676"
      ]
     },
     "execution_count": 31,
     "metadata": {
      "tags": []
     },
     "output_type": "execute_result"
    }
   ],
   "source": [
    "data['total_count']"
   ]
  },
  {
   "cell_type": "code",
   "execution_count": null,
   "metadata": {
    "id": "YH00HxrRNUiz"
   },
   "outputs": [],
   "source": []
  }
 ],
 "metadata": {
  "colab": {
   "name": "urllib request",
   "provenance": []
  },
  "kernelspec": {
   "display_name": "Python 3",
   "language": "python",
   "name": "python3"
  },
  "language_info": {
   "codemirror_mode": {
    "name": "ipython",
    "version": 3
   },
   "file_extension": ".py",
   "mimetype": "text/x-python",
   "name": "python",
   "nbconvert_exporter": "python",
   "pygments_lexer": "ipython3",
   "version": "3.8.3"
  }
 },
 "nbformat": 4,
 "nbformat_minor": 1
}
